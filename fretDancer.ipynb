{
 "cells": [
  {
   "cell_type": "code",
   "execution_count": 1,
   "id": "0ca460d4",
   "metadata": {},
   "outputs": [
    {
     "name": "stdout",
     "output_type": "stream",
     "text": [
      "文件路径已初始化:\n",
      "  音符映射文件: output/midi_info/户山香澄_2_3_notes_map.json\n",
      "  消息文件: output/midi_info/户山香澄_2_3_messages.json\n",
      "  左手记录文件: output/hand_recorder/户山香澄_2_3_lefthand_recorder.json\n",
      "  左手动画文件: output/hand_animation/户山香澄_E_户山香澄_2_3_lefthand_animation.json\n",
      "  右手记录文件: output/hand_recorder/户山香澄_2_3_righthand_recorder.json\n",
      "  右手动画文件: output/hand_animation/户山香澄_E_户山香澄_2_3_righthand_animation.json\n",
      "  吉他弦动画文件: output/string_recorder/户山香澄_2_3_guitar_string_recorder.json\n",
      "Track 0: \n",
      "Track 1: \n",
      "Track 2: çµå­åä»\n",
      "Track 2, Channel 0: Overdriven Guitar\n",
      "Track 2, Channel 0: Overdriven Guitar\n",
      "Track 2, Channel 0: Overdriven Guitar\n",
      "Track 2, Channel 0: Overdriven Guitar\n",
      "Track 2, Channel 0: Overdriven Guitar\n",
      "Track 3: çµå­åä»\n",
      "Track 3, Channel 0: Acoustic Grand Piano\n",
      "Track 3, Channel 0: Acoustic Grand Piano\n",
      "Track 3, Channel 0: Acoustic Grand Piano\n",
      "Track 3, Channel 0: Acoustic Grand Piano\n",
      "Track 3, Channel 0: Acoustic Grand Piano\n",
      "\n",
      "全曲的速度变化是:\n",
      "在1轨，tick为0时，速度变为309278\n",
      "\n",
      "全曲的每拍tick数是:96\n",
      "\n",
      "如果以24的fps做成动画，一共是7968 ticks, 合计616.081776帧, 约25.670074秒\n"
     ]
    }
   ],
   "source": [
    "# 导入必要的模块\n",
    "import json\n",
    "\n",
    "from src.HandPoseRecorder import HandPoseRecordPool, HandPoseRecorder\n",
    "from src.guitar.Guitar import Guitar\n",
    "from src.guitar.GuitarString import createGuitarStrings\n",
    "from src.hand.LeftFinger import LeftFinger\n",
    "from src.hand.LeftHand import LeftHand\n",
    "from src.midi.midiToNote import calculate_frame, get_tempo_changes, midiToGuitarNotes\n",
    "from src.midi.midiToNote import export_midi_info\n",
    "\n",
    "# 定义参数（可以根据需要修改）\n",
    "avatar = '户山香澄_E'\n",
    "midi_name = \"户山香澄\"\n",
    "track_number = [2,3]\n",
    "\n",
    "midiFilePath = f\"asset/midi/{midi_name}.mid\"\n",
    "channel_number = -1  \n",
    "FPS = 24\n",
    "guitar_string_notes = [\"e\", \"b\", \"G\", \"D\", \"A\", \"E1\"] # guitar\n",
    "# guitar_string_notes = [\"G1\", \"D1\", \"A1\", \"E2\"]  # bass\n",
    "octave_down_checkbox = False\n",
    "capo_number = 0\n",
    "disable_barre = False # 是否禁用横按\n",
    "\n",
    "# 第一步：初始化文件路径和基本参数\n",
    "filename = midiFilePath.split(\"/\")[-1].split(\".\")[0]\n",
    "track_number_string = \"_\".join([str(i) for i in track_number])\n",
    "notes_map_file = f\"output/midi_info/{filename}_{track_number_string}_notes_map.json\"\n",
    "messages_file = f\"output/midi_info/{filename}_{track_number_string}_messages.json\"\n",
    "left_hand_recorder_file = f\"output/hand_recorder/{filename}_{track_number_string}_lefthand_recorder.json\"\n",
    "left_hand_animation_file = f\"output/hand_animation/{avatar}_{filename}_{track_number_string}_lefthand_animation.json\"\n",
    "right_hand_recorder_file = f\"output/hand_recorder/{filename}_{track_number_string}_righthand_recorder.json\"\n",
    "right_hand_animation_file = f\"output/hand_animation/{avatar}_{filename}_{track_number_string}_righthand_animation.json\"\n",
    "guitar_string_recorder_file = f\"output/string_recorder/{filename}_{track_number_string}_guitar_string_recorder.json\"\n",
    "\n",
    "print(\"文件路径已初始化:\")\n",
    "print(f\"  音符映射文件: {notes_map_file}\")\n",
    "print(f\"  消息文件: {messages_file}\")\n",
    "print(f\"  左手记录文件: {left_hand_recorder_file}\")\n",
    "print(f\"  左手动画文件: {left_hand_animation_file}\")\n",
    "print(f\"  右手记录文件: {right_hand_recorder_file}\")\n",
    "print(f\"  右手动画文件: {right_hand_animation_file}\")\n",
    "print(f\"  吉他弦动画文件: {guitar_string_recorder_file}\")\n",
    "\n",
    "# 第二步：解析MIDI文件获取音符和速度变化信息\n",
    "tempo_changes, ticks_per_beat = get_tempo_changes(midiFilePath)\n",
    "notes_map, pitch_wheel_map, messages = midiToGuitarNotes(\n",
    "    midiFilePath, useTracks=track_number, useChannel=channel_number,\n",
    "    octave_down_checkbox=octave_down_checkbox, capo_number=capo_number)\n",
    "\n",
    "# 保存notes_map和messages到文件\n",
    "with open(notes_map_file, \"w\") as f:\n",
    "    json.dump(notes_map, f, indent=4)\n",
    "with open(messages_file, \"w\") as f:\n",
    "    json.dump(messages, f, indent=4)\n",
    "\n",
    "midi_info = export_midi_info(midi_name)\n",
    "print(midi_info)\n",
    "\n",
    "print(f'全曲的速度变化是:')\n",
    "for track, tempo, tick in tempo_changes:\n",
    "    print(f'在{track}轨，tick为{tick}时，速度变为{tempo}')\n",
    "\n",
    "print(f'\\n全曲的每拍tick数是:{ticks_per_beat}\\n')\n",
    "\n",
    "# 计算总时长\n",
    "total_tick = notes_map[-1]['real_tick']\n",
    "total_frame = calculate_frame(tempo_changes, ticks_per_beat, FPS, total_tick)\n",
    "total_time = total_frame/FPS\n",
    "print(f'如果以{FPS}的fps做成动画，一共是{total_tick} ticks, 合计{total_frame}帧, 约{total_time}秒')"
   ]
  },
  {
   "cell_type": "code",
   "execution_count": 2,
   "id": "257b2409",
   "metadata": {},
   "outputs": [
    {
     "name": "stdout",
     "output_type": "stream",
     "text": [
      "弦0的音符范围是: 64 ~ 76\n",
      "弦1的音符范围是: 59 ~ 71\n",
      "弦2的音符范围是: 55 ~ 67\n",
      "弦3的音符范围是: 50 ~ 62\n",
      "弦4的音符范围是: 45 ~ 57\n",
      "弦5的音符范围是: 40 ~ 52\n",
      "吉他和左手初始化完成\n",
      "最大弦索引: 5\n",
      "初始手指位置: ['手指1在1弦5品', '手指2在1弦6品', '手指3在1弦7品', '手指4在1弦8品']\n"
     ]
    }
   ],
   "source": [
    "# 第三步：初始化吉他和左手\n",
    "guitar_string_list = createGuitarStrings(guitar_string_notes)\n",
    "max_string_index = len(guitar_string_list) - 1\n",
    "\n",
    "# 输出guitar_string_list\n",
    "for i, string in enumerate(guitar_string_list):\n",
    "    print(f\"弦{i}的音符范围是: {string.getBaseNote()} ~ {string.getBaseNote() + 12}\")\n",
    "\n",
    "# 初始化吉他\n",
    "guitar = Guitar(guitar_string_list)\n",
    "\n",
    "# 设定各手指初始状态\n",
    "leftFingers = [\n",
    "    LeftFinger(1, guitar_string_list[1], 5),\n",
    "    LeftFinger(2, guitar_string_list[1], 6),\n",
    "    LeftFinger(3, guitar_string_list[1], 7),\n",
    "    LeftFinger(4, guitar_string_list[1], 8)\n",
    "]\n",
    "\n",
    "# 初始化左手\n",
    "initLeftHand = LeftHand(leftFingers)\n",
    "\n",
    "# 初始化第一个记录器\n",
    "handPoseRecord = HandPoseRecorder()\n",
    "handPoseRecord.addHandPose(initLeftHand, 0, 0)\n",
    "\n",
    "# 初始化记录池\n",
    "handPoseRecordPool = HandPoseRecordPool(100)\n",
    "handPoseRecordPool.insert_new_hand_pose_recorder(handPoseRecord, 0)\n",
    "\n",
    "print(\"吉他和左手初始化完成\")\n",
    "print(f\"最大弦索引: {max_string_index}\")\n",
    "print(\n",
    "    f\"初始手指位置: {[f'手指{f._fingerIndex}在{f.stringIndex}弦{f.fret}品' for f in leftFingers]}\")"
   ]
  },
  {
   "cell_type": "code",
   "execution_count": 3,
   "id": "8e5e45a8",
   "metadata": {},
   "outputs": [
    {
     "name": "stdout",
     "output_type": "stream",
     "text": [
      "开始生成左手按弦数据\n"
     ]
    },
    {
     "name": "stderr",
     "output_type": "stream",
     "text": [
      "Processing: 100%|█████████████████████████████████████████████████| 87/87 [00:29<00:00,  2.97step/s]"
     ]
    },
    {
     "name": "stdout",
     "output_type": "stream",
     "text": [
      "最小消耗熵为：749.5755231017476\n",
      "去重统计: 原始记录 87 条，去重后 87 条，删除重复记录 0 条\n",
      "总音符数应该为87\n",
      "实际输出音符数为88\n"
     ]
    },
    {
     "name": "stderr",
     "output_type": "stream",
     "text": [
      "\n"
     ]
    }
   ],
   "source": [
    "from FretDaner import update_recorder_pool\n",
    "# 第四步：生成左手按弦数据\n",
    "current_recoreder_num = 0\n",
    "previous_recoreder_num = 0\n",
    "total_steps = len(notes_map)\n",
    "\n",
    "print('开始生成左手按弦数据')\n",
    "update_recorder_pool(total_steps, guitar, handPoseRecordPool, notes_map, current_recoreder_num, previous_recoreder_num)\n",
    "\n",
    "# 获取最优解\n",
    "bestHandPoseRecord = handPoseRecordPool.curHandPoseRecordPool[0]\n",
    "bestEntropy = bestHandPoseRecord.currentEntropy\n",
    "print(f\"最小消耗熵为：{bestEntropy}\")\n",
    "bestHandPoseRecord.save(left_hand_recorder_file, tempo_changes, ticks_per_beat, FPS)\n",
    "print(f\"总音符数应该为{total_steps}\")\n",
    "print(f\"实际输出音符数为{len(bestHandPoseRecord.handPoseList)}\")"
   ]
  },
  {
   "cell_type": "code",
   "execution_count": 4,
   "id": "53a623a0",
   "metadata": {},
   "outputs": [
    {
     "name": "stdout",
     "output_type": "stream",
     "text": [
      "未检测到推弦动作\n"
     ]
    }
   ],
   "source": [
    "from src.animate.animate import addPitchwheel\n",
    "from src.midi.midiToNote import calculate_frame\n",
    "# 第五步：处理推弦动作（如果有）\n",
    "if len(pitch_wheel_map) > 0:\n",
    "    print(\"检测到推弦动作，正在处理...\")\n",
    "    for item in pitch_wheel_map:\n",
    "        frame = calculate_frame(tempo_changes, ticks_per_beat, FPS, item['real_tick'])\n",
    "        item['frame'] = frame\n",
    "    addPitchwheel(left_hand_recorder_file, pitch_wheel_map)\n",
    "    print(f\"已处理{len(pitch_wheel_map)}个推弦动作\")\n",
    "else:\n",
    "    print(\"未检测到推弦动作\")"
   ]
  },
  {
   "cell_type": "code",
   "execution_count": 5,
   "id": "641c4c52",
   "metadata": {},
   "outputs": [
    {
     "name": "stdout",
     "output_type": "stream",
     "text": [
      "正在生成左手动画数据...\n",
      "左手动画数据生成完成\n"
     ]
    }
   ],
   "source": [
    "from src.animate.animate import leftHand2Animation\n",
    "# 第六步：生成左手动画数据\n",
    "print(\"正在生成左手动画数据...\")\n",
    "leftHand2Animation(avatar, left_hand_recorder_file,\n",
    "                   left_hand_animation_file, FPS, max_string_index,disable_barre=disable_barre)\n",
    "print(\"左手动画数据生成完成\")"
   ]
  },
  {
   "cell_type": "code",
   "execution_count": 6,
   "id": "a56f3620",
   "metadata": {},
   "outputs": [
    {
     "name": "stdout",
     "output_type": "stream",
     "text": [
      "开始生成右手演奏数据\n",
      "检测到电吉他角色，使用电吉他右手处理...\n"
     ]
    },
    {
     "name": "stderr",
     "output_type": "stream",
     "text": [
      "Processing: 100%|█████████████████████████████████████████████| 87/87 [00:00<00:00, 167541.07step/s]\n"
     ]
    },
    {
     "name": "stdout",
     "output_type": "stream",
     "text": [
      "电吉他右手动画数据生成完成\n"
     ]
    }
   ],
   "source": [
    "from src.HandPoseRecorder import HandPoseRecordPool,RightHandRecorder\n",
    "from src.animate.animate import ElectronicRightHand2Animation\n",
    "from FretDaner import update_right_hand_recorder_pool, leftHand2ElectronicRightHand\n",
    "from src.hand.RightHand import RightHand\n",
    "\n",
    "# 第七步：生成右手演奏数据\n",
    "print('开始生成右手演奏数据')\n",
    "if avatar.endswith(\"_E\"):\n",
    "    print(\"检测到电吉他角色，使用电吉他右手处理...\")\n",
    "    leftHand2ElectronicRightHand(\n",
    "        left_hand_recorder_file, right_hand_recorder_file)\n",
    "    ElectronicRightHand2Animation(\n",
    "        avatar, right_hand_recorder_file, right_hand_animation_file, FPS, max_string_index)\n",
    "    print(\"电吉他右手动画数据生成完成\")\n",
    "else:\n",
    "    is_playing_bass = max_string_index < 5\n",
    "    print(\"使用古典吉他/finger bass右手处理...\")\n",
    "    initRightHand = RightHand(\n",
    "        usedFingers=[], rightFingerPositions=[max_string_index, 2, 1, 0], preUsedFingers=[],is_playing_bass=is_playing_bass)\n",
    "\n",
    "    initRightHandRecorder = RightHandRecorder()\n",
    "    initRightHandRecorder.addHandPose(initRightHand, 0, 0)\n",
    "\n",
    "    rightHandRecordPool = HandPoseRecordPool(100)\n",
    "    rightHandRecordPool.insert_new_hand_pose_recorder(\n",
    "        initRightHandRecorder, 0)\n",
    "\n",
    "    current_recoreder_num = 0\n",
    "    previous_recoreder_num = current_recoreder_num\n",
    "\n",
    "    update_right_hand_recorder_pool(\n",
    "        left_hand_recorder_file, rightHandRecordPool, current_recoreder_num, previous_recoreder_num, max_string_index)\n",
    "\n",
    "    # 获取最优解\n",
    "    bestHandPoseRecord = rightHandRecordPool.curHandPoseRecordPool[0]\n",
    "    bestEntropy = bestHandPoseRecord.currentEntropy\n",
    "    print(f\"最小消耗熵为：{bestEntropy}\")\n",
    "    bestHandPoseRecord.save(right_hand_recorder_file,\n",
    "                            tempo_changes, ticks_per_beat, FPS)"
   ]
  },
  {
   "cell_type": "code",
   "execution_count": 7,
   "id": "35b326b3",
   "metadata": {},
   "outputs": [
    {
     "name": "stdout",
     "output_type": "stream",
     "text": [
      "开始生成右手演奏数据\n"
     ]
    }
   ],
   "source": [
    "from src.animate.animate import rightHand2Animation\n",
    "# 第八步：生成古典吉他右手动画数据\n",
    "print('开始生成右手演奏数据')\n",
    "if not avatar.endswith(\"_E\"):        \n",
    "\n",
    "    rightHand2Animation(avatar, right_hand_recorder_file,\n",
    "                        right_hand_animation_file, FPS, max_string_index)\n",
    "    print(\"古典吉他右手动画数据生成完成\")"
   ]
  },
  {
   "cell_type": "code",
   "execution_count": 8,
   "id": "e64aa655",
   "metadata": {},
   "outputs": [
    {
     "name": "stdout",
     "output_type": "stream",
     "text": [
      "开始生成吉他弦动画数据...\n",
      "吉他弦动画数据生成完成\n"
     ]
    }
   ],
   "source": [
    "from src.animate.animate import animated_guitar_string\n",
    "# 第九步：生成吉他弦动画数据\n",
    "print('开始生成吉他弦动画数据...')\n",
    "animated_guitar_string(left_hand_recorder_file,\n",
    "                       guitar_string_recorder_file, FPS)\n",
    "print(\"吉他弦动画数据生成完成\")"
   ]
  },
  {
   "cell_type": "code",
   "execution_count": 9,
   "id": "8050881e",
   "metadata": {},
   "outputs": [
    {
     "name": "stdout",
     "output_type": "stream",
     "text": [
      "全部执行完毕:\n",
      "recorder文件被保存到了:\n",
      "  - output/hand_recorder/户山香澄_2_3_lefthand_recorder.json\n",
      "  - output/hand_recorder/户山香澄_2_3_righthand_recorder.json\n",
      "动画文件被保存到了:\n",
      "  - output/hand_animation/户山香澄_E_户山香澄_2_3_lefthand_animation.json\n",
      "  - output/hand_animation/户山香澄_E_户山香澄_2_3_righthand_animation.json\n",
      "吉它弦动画文件被保存到了:\n",
      "  - output/string_recorder/户山香澄_2_3_guitar_string_recorder.json\n"
     ]
    }
   ],
   "source": [
    "# 最终结果输出\n",
    "finall_info = f'''全部执行完毕:\n",
    "recorder文件被保存到了:\n",
    "  - {left_hand_recorder_file}\n",
    "  - {right_hand_recorder_file}\n",
    "动画文件被保存到了:\n",
    "  - {left_hand_animation_file}\n",
    "  - {right_hand_animation_file}\n",
    "吉它弦动画文件被保存到了:\n",
    "  - {guitar_string_recorder_file}'''\n",
    "\n",
    "print(finall_info)"
   ]
  }
 ],
 "metadata": {
  "kernelspec": {
   "display_name": "fretdance (3.10.6)",
   "language": "python",
   "name": "python3"
  },
  "language_info": {
   "codemirror_mode": {
    "name": "ipython",
    "version": 3
   },
   "file_extension": ".py",
   "mimetype": "text/x-python",
   "name": "python",
   "nbconvert_exporter": "python",
   "pygments_lexer": "ipython3",
   "version": "3.10.6"
  }
 },
 "nbformat": 4,
 "nbformat_minor": 5
}
